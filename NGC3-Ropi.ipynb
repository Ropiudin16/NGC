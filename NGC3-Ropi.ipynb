{
 "cells": [
  {
   "cell_type": "code",
   "execution_count": 7,
   "metadata": {},
   "outputs": [
    {
     "name": "stdout",
     "output_type": "stream",
     "text": [
      "Masukan suhu dalam kelvin :  273 kelvin\n",
      "Suhu dalam celcius adalah 0 celcius\n"
     ]
    }
   ],
   "source": [
    "# Konversi Kelvin ke Celcius\n",
    "\n",
    "def suhu(kelvin):\n",
    "    print('Masukan suhu dalam kelvin : ',kelvin,'kelvin')\n",
    "    celcius = kelvin - 273\n",
    "    print('Suhu dalam celcius adalah',celcius,'celcius')\n",
    "\n",
    "suhu(273)"
   ]
  },
  {
   "cell_type": "code",
   "execution_count": 9,
   "metadata": {},
   "outputs": [
    {
     "name": "stdout",
     "output_type": "stream",
     "text": [
      "Masukan suhu dalam celcius :  0 celcius\n",
      "Suhu dalam kelvin adalah 273 Kelvin\n"
     ]
    }
   ],
   "source": [
    "# Konversi Celcius ke Kelvin\n",
    "def suhu(celcius):\n",
    "    print('Masukan suhu dalam celcius : ',celcius,'celcius')\n",
    "    kelvin = celcius + 273\n",
    "    print('Suhu dalam kelvin adalah',kelvin,'Kelvin')\n",
    "\n",
    "suhu(0)"
   ]
  },
  {
   "cell_type": "code",
   "execution_count": 10,
   "metadata": {},
   "outputs": [
    {
     "name": "stdout",
     "output_type": "stream",
     "text": [
      "Masukan suhu dalam celcius :  0 celcius\n",
      "Suhu dalam fahrenheit adalah 32.0 fahrenheit\n"
     ]
    }
   ],
   "source": [
    "# Konversi Celcius ke Fahrenheit\n",
    "def suhu(celcius):\n",
    "    print('Masukan suhu dalam celcius : ',celcius,'celcius')\n",
    "    fahrenheit = ((9/5) * celcius) + 32\n",
    "    print('Suhu dalam fahrenheit adalah',fahrenheit,'fahrenheit')\n",
    "\n",
    "suhu(0)"
   ]
  },
  {
   "cell_type": "code",
   "execution_count": 13,
   "metadata": {},
   "outputs": [
    {
     "name": "stdout",
     "output_type": "stream",
     "text": [
      "Masukan suhu dalam kelvin :  273 kelvin\n",
      "Suhu dalam fahrenheit adalah 32.0 fahrenheit\n"
     ]
    }
   ],
   "source": [
    "# Konversi Kelvin ke Fahrenheit\n",
    "\n",
    "def suhu(kelvin):\n",
    "    print('Masukan suhu dalam kelvin : ',kelvin,'kelvin')\n",
    "    fahrenheit = ((9/5) * (kelvin - 273)) + 32\n",
    "    print('Suhu dalam fahrenheit adalah',fahrenheit,'fahrenheit')\n",
    "\n",
    "suhu(273)"
   ]
  },
  {
   "cell_type": "code",
   "execution_count": 18,
   "metadata": {},
   "outputs": [
    {
     "name": "stdout",
     "output_type": "stream",
     "text": [
      "Masukan suhu dalam fahrenheit :  32 fahrenheit\n",
      "Suhu dalam celcius adalah 0.0 celcius\n"
     ]
    }
   ],
   "source": [
    "# Konversi Fahrenheit ke celcius\n",
    "def suhu(fahrenheit):\n",
    "    print('Masukan suhu dalam fahrenheit : ',fahrenheit,'fahrenheit')\n",
    "    celcius = (5/9) * (fahrenheit - 32)\n",
    "    print('Suhu dalam celcius adalah',celcius,'celcius')\n",
    "\n",
    "suhu(32)"
   ]
  },
  {
   "cell_type": "code",
   "execution_count": 19,
   "metadata": {},
   "outputs": [
    {
     "name": "stdout",
     "output_type": "stream",
     "text": [
      "Masukan suhu dalam fahrenheit :  32 fahrenheit\n",
      "Suhu dalam kelvin adalah 273.0 kelvin\n"
     ]
    }
   ],
   "source": [
    "# Konversi Fahrenheit ke kelvin\n",
    "def suhu(fahrenheit):\n",
    "    print('Masukan suhu dalam fahrenheit : ',fahrenheit,'fahrenheit')\n",
    "    kelvin = ((4/9) * (fahrenheit - 32)) + 273\n",
    "    print('Suhu dalam kelvin adalah',kelvin,'kelvin')\n",
    "\n",
    "suhu(32)"
   ]
  }
 ],
 "metadata": {
  "kernelspec": {
   "display_name": "Python 3.10.4 64-bit",
   "language": "python",
   "name": "python3"
  },
  "language_info": {
   "codemirror_mode": {
    "name": "ipython",
    "version": 3
   },
   "file_extension": ".py",
   "mimetype": "text/x-python",
   "name": "python",
   "nbconvert_exporter": "python",
   "pygments_lexer": "ipython3",
   "version": "3.10.4"
  },
  "orig_nbformat": 4,
  "vscode": {
   "interpreter": {
    "hash": "fb4569285eef3a3450cb62085a5b1e0da4bce0af555edc33dcf29baf3acc1368"
   }
  }
 },
 "nbformat": 4,
 "nbformat_minor": 2
}
