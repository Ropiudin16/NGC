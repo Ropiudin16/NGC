{
  "nbformat": 4,
  "nbformat_minor": 0,
  "metadata": {
    "colab": {
      "provenance": [],
      "collapsed_sections": []
    },
    "kernelspec": {
      "name": "python3",
      "display_name": "Python 3"
    },
    "language_info": {
      "name": "python"
    }
  },
  "cells": [
    {
      "cell_type": "code",
      "execution_count": 5,
      "metadata": {
        "colab": {
          "base_uri": "https://localhost:8080/"
        },
        "id": "mwQEQDP9zWtd",
        "outputId": "5eeb0fe0-022f-4a2f-f9a5-9cb70d47d41c"
      },
      "outputs": [
        {
          "output_type": "stream",
          "name": "stdout",
          "text": [
            "Nama = Ropi\n",
            "Nilai = 30\n",
            "Selamat Ropi, kamu mendapatkan Nilai 30.0 dengan Grade E\n"
          ]
        }
      ],
      "source": [
        "Nama = input('Nama = ')\n",
        "Nilai = float(input('Nilai = '))\n",
        "if 80 <= Nilai <= 100:\n",
        "  print(f'Selamat {Nama}, kamu mendapatkan Nilai {Nilai} dengan Grade A')\n",
        "elif 70 <= Nilai < 80:\n",
        "  print(f'Selamat {Nama}, kamu mendapatkan Nilai {Nilai} dengan Grade B')\n",
        "elif 60 <= Nilai < 70:\n",
        "  print(f'Selamat {Nama}, kamu mendapatkan Nilai {Nilai} dengan Grade C')\n",
        "elif 40 <= Nilai < 60:\n",
        "  print(f'Selamat {Nama}, kamu mendapatkan Nilai {Nilai} dengan Grade D')\n",
        "else:\n",
        "  print(f'Selamat {Nama}, kamu mendapatkan Nilai {Nilai} dengan Grade E')"
      ]
    },
    {
      "cell_type": "code",
      "source": [
        "a = 20\n",
        "if a >10:\n",
        "  pass"
      ],
      "metadata": {
        "id": "i45EJ2mr2aEz"
      },
      "execution_count": 16,
      "outputs": []
    },
    {
      "cell_type": "code",
      "source": [],
      "metadata": {
        "id": "m-mpjUFbbxmt"
      },
      "execution_count": null,
      "outputs": []
    },
    {
      "cell_type": "code",
      "source": [
        "n = 5\n",
        "while n:\n",
        "  n -= 1\n",
        "  print(n)"
      ],
      "metadata": {
        "colab": {
          "base_uri": "https://localhost:8080/"
        },
        "id": "T6nGWAMM24ZP",
        "outputId": "3dc92658-8e56-43be-9ca5-09079856b38d"
      },
      "execution_count": 23,
      "outputs": [
        {
          "output_type": "stream",
          "name": "stdout",
          "text": [
            "4\n",
            "3\n",
            "2\n",
            "1\n",
            "0\n"
          ]
        }
      ]
    }
  ]
}