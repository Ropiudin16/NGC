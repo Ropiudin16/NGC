{
  "nbformat": 4,
  "nbformat_minor": 0,
  "metadata": {
    "colab": {
      "provenance": [],
      "collapsed_sections": []
    },
    "kernelspec": {
      "name": "python3",
      "display_name": "Python 3"
    },
    "language_info": {
      "name": "python"
    }
  },
  "cells": [
    {
      "cell_type": "markdown",
      "source": [
        "# **NGC 7**"
      ],
      "metadata": {
        "id": "c7dsYDTfdmBO"
      }
    },
    {
      "cell_type": "code",
      "execution_count": 1,
      "metadata": {
        "id": "p35CHnkKdaQ9"
      },
      "outputs": [],
      "source": [
        "import sympy as sy"
      ]
    },
    {
      "cell_type": "code",
      "source": [
        "x = sy.symbols('x')\n",
        "x"
      ],
      "metadata": {
        "colab": {
          "base_uri": "https://localhost:8080/",
          "height": 39
        },
        "id": "rmhpRk4adsnA",
        "outputId": "c5de4ce1-b1b2-4bae-c666-7f53d4b9378a"
      },
      "execution_count": 6,
      "outputs": [
        {
          "output_type": "execute_result",
          "data": {
            "text/plain": [
              "x"
            ],
            "text/latex": "$\\displaystyle x$"
          },
          "metadata": {},
          "execution_count": 6
        }
      ]
    },
    {
      "cell_type": "code",
      "source": [
        "f1 = x**2 + 2*x + 1\n",
        "f1"
      ],
      "metadata": {
        "colab": {
          "base_uri": "https://localhost:8080/",
          "height": 39
        },
        "id": "CL0zubpveQjV",
        "outputId": "0ce69487-4989-40c9-ee26-634e390e35fb"
      },
      "execution_count": 8,
      "outputs": [
        {
          "output_type": "execute_result",
          "data": {
            "text/plain": [
              "x**2 + 2*x + 1"
            ],
            "text/latex": "$\\displaystyle x^{2} + 2 x + 1$"
          },
          "metadata": {},
          "execution_count": 8
        }
      ]
    },
    {
      "cell_type": "code",
      "source": [
        "# Turunan pertama dari fungsi f1\n",
        "f1.diff()"
      ],
      "metadata": {
        "colab": {
          "base_uri": "https://localhost:8080/",
          "height": 39
        },
        "id": "XLRlXdRxeZ04",
        "outputId": "8eb345e8-8db8-4528-b383-fd3fe1becf90"
      },
      "execution_count": 9,
      "outputs": [
        {
          "output_type": "execute_result",
          "data": {
            "text/plain": [
              "2*x + 2"
            ],
            "text/latex": "$\\displaystyle 2 x + 2$"
          },
          "metadata": {},
          "execution_count": 9
        }
      ]
    },
    {
      "cell_type": "code",
      "source": [
        "# Turunan kedua dari fungsi f1\n",
        "f1.diff().diff()"
      ],
      "metadata": {
        "colab": {
          "base_uri": "https://localhost:8080/",
          "height": 37
        },
        "id": "9gE5Sm1Tekxi",
        "outputId": "b7b1eba5-2944-47e0-e9bd-82732ef4c759"
      },
      "execution_count": 10,
      "outputs": [
        {
          "output_type": "execute_result",
          "data": {
            "text/plain": [
              "2"
            ],
            "text/latex": "$\\displaystyle 2$"
          },
          "metadata": {},
          "execution_count": 10
        }
      ]
    },
    {
      "cell_type": "code",
      "source": [
        "f2 = 4*x**3 - 3*x**2 + 2*x -1\n",
        "f2"
      ],
      "metadata": {
        "colab": {
          "base_uri": "https://localhost:8080/",
          "height": 39
        },
        "id": "dPdb5FDheq3o",
        "outputId": "567a76c9-7c47-4c90-90c0-98d4e9278dd0"
      },
      "execution_count": 12,
      "outputs": [
        {
          "output_type": "execute_result",
          "data": {
            "text/plain": [
              "4*x**3 - 3*x**2 + 2*x - 1"
            ],
            "text/latex": "$\\displaystyle 4 x^{3} - 3 x^{2} + 2 x - 1$"
          },
          "metadata": {},
          "execution_count": 12
        }
      ]
    },
    {
      "cell_type": "code",
      "source": [
        "# Turunan pertama dari fungsi f2\n",
        "f2.diff()"
      ],
      "metadata": {
        "colab": {
          "base_uri": "https://localhost:8080/",
          "height": 39
        },
        "id": "wLM96X09e9VQ",
        "outputId": "95020905-7d02-4682-950f-29080ac599c2"
      },
      "execution_count": 13,
      "outputs": [
        {
          "output_type": "execute_result",
          "data": {
            "text/plain": [
              "12*x**2 - 6*x + 2"
            ],
            "text/latex": "$\\displaystyle 12 x^{2} - 6 x + 2$"
          },
          "metadata": {},
          "execution_count": 13
        }
      ]
    },
    {
      "cell_type": "code",
      "source": [
        "# Turunan kedua dari fungsi f2\n",
        "f2.diff().diff()"
      ],
      "metadata": {
        "colab": {
          "base_uri": "https://localhost:8080/",
          "height": 39
        },
        "id": "8ztM2swVfCO1",
        "outputId": "5d0c75e9-7f83-4650-abf1-710467922bd3"
      },
      "execution_count": 14,
      "outputs": [
        {
          "output_type": "execute_result",
          "data": {
            "text/plain": [
              "24*x - 6"
            ],
            "text/latex": "$\\displaystyle 24 x - 6$"
          },
          "metadata": {},
          "execution_count": 14
        }
      ]
    }
  ]
}