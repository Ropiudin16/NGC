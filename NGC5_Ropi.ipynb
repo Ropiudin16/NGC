{
  "nbformat": 4,
  "nbformat_minor": 0,
  "metadata": {
    "colab": {
      "provenance": [],
      "collapsed_sections": []
    },
    "kernelspec": {
      "name": "python3",
      "display_name": "Python 3"
    },
    "language_info": {
      "name": "python"
    }
  },
  "cells": [
    {
      "cell_type": "markdown",
      "source": [
        "# **NGC 4**"
      ],
      "metadata": {
        "id": "Nwft7niGVOn1"
      }
    },
    {
      "cell_type": "code",
      "execution_count": 1,
      "metadata": {
        "id": "oAHZOJFyU-w_"
      },
      "outputs": [],
      "source": [
        "import numpy as np"
      ]
    },
    {
      "cell_type": "markdown",
      "source": [
        "## Soal No.1"
      ],
      "metadata": {
        "id": "A-N3Gm_6Wmi1"
      }
    },
    {
      "cell_type": "code",
      "source": [
        "M1 = np.array([[23, 50],\n",
        "               [7, 12]])\n",
        "\n",
        "M2 = np.array([[57, 67],\n",
        "               [99, 43]])\n",
        "\n",
        "M3 = np.array([[75, 21],\n",
        "               [57, 12]])\n",
        "\n",
        "M4 = np.array([[87, 26],\n",
        "               [18, 84]])"
      ],
      "metadata": {
        "id": "mJN05TZIVXui"
      },
      "execution_count": 2,
      "outputs": []
    },
    {
      "cell_type": "code",
      "source": [
        "tensor = np.array([M1, M2, M3, M4])\n",
        "tensor"
      ],
      "metadata": {
        "colab": {
          "base_uri": "https://localhost:8080/"
        },
        "id": "bTaBboXNWqgL",
        "outputId": "048240c6-bc88-440a-e5b2-fc8eb9f510a7"
      },
      "execution_count": 4,
      "outputs": [
        {
          "output_type": "execute_result",
          "data": {
            "text/plain": [
              "array([[[23, 50],\n",
              "        [ 7, 12]],\n",
              "\n",
              "       [[57, 67],\n",
              "        [99, 43]],\n",
              "\n",
              "       [[75, 21],\n",
              "        [57, 12]],\n",
              "\n",
              "       [[87, 26],\n",
              "        [18, 84]]])"
            ]
          },
          "metadata": {},
          "execution_count": 4
        }
      ]
    },
    {
      "cell_type": "markdown",
      "source": [
        "## Soal No.2"
      ],
      "metadata": {
        "id": "GR0rmcfmW1Ir"
      }
    },
    {
      "cell_type": "code",
      "source": [
        "A = np.array([[23, 50, 19],\n",
        "              [7, 12, 109],\n",
        "              [57, 67, 98]])\n",
        "\n",
        "B = np.array([[17],\n",
        "              [22],\n",
        "              [19]])"
      ],
      "metadata": {
        "id": "DNbm4mruW81P"
      },
      "execution_count": 9,
      "outputs": []
    },
    {
      "cell_type": "code",
      "source": [
        "A"
      ],
      "metadata": {
        "colab": {
          "base_uri": "https://localhost:8080/"
        },
        "id": "ezZAvp22XksH",
        "outputId": "212e1bf4-b4d1-4f49-aae4-bec5295a2654"
      },
      "execution_count": 6,
      "outputs": [
        {
          "output_type": "execute_result",
          "data": {
            "text/plain": [
              "array([[ 23,  50,  19],\n",
              "       [  7,  12, 109],\n",
              "       [ 57,  67,  98]])"
            ]
          },
          "metadata": {},
          "execution_count": 6
        }
      ]
    },
    {
      "cell_type": "code",
      "source": [
        "B"
      ],
      "metadata": {
        "colab": {
          "base_uri": "https://localhost:8080/"
        },
        "id": "CqereSfvXu_1",
        "outputId": "27302258-b7a4-431f-a2fc-310b2847fa92"
      },
      "execution_count": 10,
      "outputs": [
        {
          "output_type": "execute_result",
          "data": {
            "text/plain": [
              "array([[17],\n",
              "       [22],\n",
              "       [19]])"
            ]
          },
          "metadata": {},
          "execution_count": 10
        }
      ]
    },
    {
      "cell_type": "code",
      "source": [
        "A @ B"
      ],
      "metadata": {
        "colab": {
          "base_uri": "https://localhost:8080/"
        },
        "id": "hGnLuyiJXw7m",
        "outputId": "bef62b85-7bc4-42b8-dc5a-c6ed65355ac7"
      },
      "execution_count": 11,
      "outputs": [
        {
          "output_type": "execute_result",
          "data": {
            "text/plain": [
              "array([[1852],\n",
              "       [2454],\n",
              "       [4305]])"
            ]
          },
          "metadata": {},
          "execution_count": 11
        }
      ]
    },
    {
      "cell_type": "markdown",
      "source": [
        "## Soal No.3"
      ],
      "metadata": {
        "id": "DNTmKQlrYD57"
      }
    },
    {
      "cell_type": "code",
      "source": [
        "A = np.array([[23, 50, 19],\n",
        "              [7, 12, 109],\n",
        "              [57, 67, 98]])"
      ],
      "metadata": {
        "id": "HRKbs03xYQCe"
      },
      "execution_count": 12,
      "outputs": []
    },
    {
      "cell_type": "code",
      "source": [
        "A"
      ],
      "metadata": {
        "colab": {
          "base_uri": "https://localhost:8080/"
        },
        "id": "TjnWgCfjYiBg",
        "outputId": "b7641c36-d262-4ffb-cdcc-4f1ff6854f1b"
      },
      "execution_count": 13,
      "outputs": [
        {
          "output_type": "execute_result",
          "data": {
            "text/plain": [
              "array([[ 23,  50,  19],\n",
              "       [  7,  12, 109],\n",
              "       [ 57,  67,  98]])"
            ]
          },
          "metadata": {},
          "execution_count": 13
        }
      ]
    },
    {
      "cell_type": "code",
      "source": [
        "# transpose\n",
        "A.transpose()"
      ],
      "metadata": {
        "colab": {
          "base_uri": "https://localhost:8080/"
        },
        "id": "zs7jXlFOYluE",
        "outputId": "2ba39ddc-f470-4eaf-d017-28231eb802a1"
      },
      "execution_count": 17,
      "outputs": [
        {
          "output_type": "execute_result",
          "data": {
            "text/plain": [
              "array([[ 23,   7,  57],\n",
              "       [ 50,  12,  67],\n",
              "       [ 19, 109,  98]])"
            ]
          },
          "metadata": {},
          "execution_count": 17
        }
      ]
    },
    {
      "cell_type": "code",
      "source": [
        "# determinan\n",
        "np.linalg.det(A)"
      ],
      "metadata": {
        "colab": {
          "base_uri": "https://localhost:8080/"
        },
        "id": "AV2M0cZUY7_Q",
        "outputId": "d25c188d-ca99-46ce-8f11-9af9b0192a24"
      },
      "execution_count": 18,
      "outputs": [
        {
          "output_type": "execute_result",
          "data": {
            "text/plain": [
              "131344.0000000002"
            ]
          },
          "metadata": {},
          "execution_count": 18
        }
      ]
    },
    {
      "cell_type": "code",
      "source": [
        "# inverse\n",
        "np.linalg.inv(A)"
      ],
      "metadata": {
        "colab": {
          "base_uri": "https://localhost:8080/"
        },
        "id": "Z4iPp7oEZfjE",
        "outputId": "96a5dd9b-81d1-4866-f49c-5b51242cd7d8"
      },
      "execution_count": 19,
      "outputs": [
        {
          "output_type": "execute_result",
          "data": {
            "text/plain": [
              "array([[-0.0466485 , -0.02761451,  0.03975819],\n",
              "       [ 0.04208034,  0.00891552, -0.01807467],\n",
              "       [-0.00163692,  0.0099662 , -0.00056341]])"
            ]
          },
          "metadata": {},
          "execution_count": 19
        }
      ]
    }
  ]
}