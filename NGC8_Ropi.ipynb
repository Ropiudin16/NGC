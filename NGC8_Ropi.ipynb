{
  "nbformat": 4,
  "nbformat_minor": 0,
  "metadata": {
    "colab": {
      "provenance": [],
      "collapsed_sections": []
    },
    "kernelspec": {
      "name": "python3",
      "display_name": "Python 3"
    },
    "language_info": {
      "name": "python"
    }
  },
  "cells": [
    {
      "cell_type": "markdown",
      "source": [
        "# **NGC 8**"
      ],
      "metadata": {
        "id": "qr24wUaam8zX"
      }
    },
    {
      "cell_type": "code",
      "execution_count": 1,
      "metadata": {
        "id": "z8fYpC4-m1qk"
      },
      "outputs": [],
      "source": [
        "import sympy as sy"
      ]
    },
    {
      "cell_type": "code",
      "source": [
        "x = sy.symbols('x')\n",
        "y = sy.symbols('y')"
      ],
      "metadata": {
        "id": "OBP9PSFNdnGg"
      },
      "execution_count": 4,
      "outputs": []
    },
    {
      "cell_type": "code",
      "source": [
        "f = 3*x + 4*y - 5\n",
        "f"
      ],
      "metadata": {
        "colab": {
          "base_uri": "https://localhost:8080/",
          "height": 39
        },
        "id": "WGJTz9crdrZ_",
        "outputId": "ba39ad08-5e90-4ea9-cb65-3acda94d3ca8"
      },
      "execution_count": 6,
      "outputs": [
        {
          "output_type": "execute_result",
          "data": {
            "text/plain": [
              "3*x + 4*y - 5"
            ],
            "text/latex": "$\\displaystyle 3 x + 4 y - 5$"
          },
          "metadata": {},
          "execution_count": 6
        }
      ]
    },
    {
      "cell_type": "code",
      "source": [
        "# Turunan terhadap x\n",
        "f.diff(x)"
      ],
      "metadata": {
        "colab": {
          "base_uri": "https://localhost:8080/",
          "height": 37
        },
        "id": "U8jOr7pad9FF",
        "outputId": "42f2927a-4ca1-4f1c-f6fe-74f4704f097e"
      },
      "execution_count": 9,
      "outputs": [
        {
          "output_type": "execute_result",
          "data": {
            "text/plain": [
              "3"
            ],
            "text/latex": "$\\displaystyle 3$"
          },
          "metadata": {},
          "execution_count": 9
        }
      ]
    },
    {
      "cell_type": "code",
      "source": [
        "#Turunan terhadap y\n",
        "f.diff(y)"
      ],
      "metadata": {
        "colab": {
          "base_uri": "https://localhost:8080/",
          "height": 37
        },
        "id": "DbMhYOHTeNj-",
        "outputId": "7a5287a1-6789-43ff-e901-e7225fa0147f"
      },
      "execution_count": 10,
      "outputs": [
        {
          "output_type": "execute_result",
          "data": {
            "text/plain": [
              "4"
            ],
            "text/latex": "$\\displaystyle 4$"
          },
          "metadata": {},
          "execution_count": 10
        }
      ]
    }
  ]
}